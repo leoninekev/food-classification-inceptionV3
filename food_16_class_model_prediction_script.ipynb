{
 "cells": [
  {
   "cell_type": "markdown",
   "metadata": {},
   "source": [
    "### Prediction script:\n",
    "#### Following program serves following purposes:\n",
    "* Iteratively detects test images from a local folder path\n",
    "* Loads food model trained previously for 16 classes. \n",
    "* Performs preprocessing on incoming images and parse them through the model to ouput predicted lables."
   ]
  },
  {
   "cell_type": "code",
   "execution_count": 1,
   "metadata": {
    "colab": {
     "autoexec": {
      "startup": false,
      "wait_interval": 0
     }
    },
    "colab_type": "code",
    "id": "X_VQUlLTXDfh"
   },
   "outputs": [],
   "source": [
    "import numpy as np\n",
    "import pandas as pd\n",
    "import os"
   ]
  },
  {
   "cell_type": "markdown",
   "metadata": {},
   "source": [
    "#### training images from local machine"
   ]
  },
  {
   "cell_type": "code",
   "execution_count": 2,
   "metadata": {
    "colab": {
     "autoexec": {
      "startup": false,
      "wait_interval": 0
     },
     "base_uri": "https://localhost:8080/",
     "height": 34
    },
    "colab_type": "code",
    "executionInfo": {
     "elapsed": 1991,
     "status": "ok",
     "timestamp": 1531938681665,
     "user": {
      "displayName": "Prakash Bisht",
      "photoUrl": "//lh5.googleusercontent.com/-04UzDVJdBwE/AAAAAAAAAAI/AAAAAAAADj4/nhMNE_Vmelk/s50-c-k-no/photo.jpg",
      "userId": "110325046815269230203"
     },
     "user_tz": -330
    },
    "id": "ZyiNsEc2Xi5I",
    "outputId": "4e22746d-6951-4532-89fe-f353255478bd"
   },
   "outputs": [
    {
     "name": "stderr",
     "output_type": "stream",
     "text": [
      "Using TensorFlow backend.\n"
     ]
    }
   ],
   "source": [
    "from keras.layers import Input, Conv2D, AveragePooling2D, Flatten, Dense\n",
    "from keras.models import Model\n",
    "from keras.optimizers import Adam\n",
    "from keras.preprocessing.image import load_img, img_to_array, ImageDataGenerator\n",
    "from keras.utils import np_utils\n",
    "import matplotlib.pyplot as plt\n",
    "from sklearn.model_selection import train_test_split"
   ]
  },
  {
   "cell_type": "code",
   "execution_count": 85,
   "metadata": {
    "colab": {
     "autoexec": {
      "startup": false,
      "wait_interval": 0
     }
    },
    "colab_type": "code",
    "id": "ObsbIkUeXt3_"
   },
   "outputs": [],
   "source": [
    "'''def process_whole(img):#takes in array of image paths and outputs array of image matrix\n",
    "    image_array = np.empty((img.shape[0],120,120,3))\n",
    "    for i in range(img.shape[0]):\n",
    "        a= load_img(img[i], target_size=(120,120))#(180,260))\n",
    "        image_array[i,:,:,:]= img_to_array(a)\n",
    "    return image_array \n",
    "  \n",
    "def test_process(img):\n",
    "    a= load_img(img, target_size= (120,120))\n",
    "    return img_to_array(a)'''"
   ]
  },
  {
   "cell_type": "code",
   "execution_count": 3,
   "metadata": {},
   "outputs": [
    {
     "name": "stdout",
     "output_type": "stream",
     "text": [
      "[<tf.Tensor 'input_1:0' shape=(?, 180, 180, 3) dtype=float32>]\n"
     ]
    }
   ],
   "source": [
    "from keras.models import load_model #loading a pretrained model\n",
    "model16c= load_model('C:\\\\model16c_91.75.hdf5')#loading a model pretrained model for 16 classes from local path\n",
    "print(model16c.inputs)"
   ]
  },
  {
   "cell_type": "markdown",
   "metadata": {},
   "source": [
    "* #### Auxilliary functions to preprocess test images and throw predition array, top prediction."
   ]
  },
  {
   "cell_type": "code",
   "execution_count": 6,
   "metadata": {},
   "outputs": [],
   "source": [
    "def process_whole(img):#takes in array of image paths and outputs array of image matrix\n",
    "    image_array = np.empty((img.shape[0],180,180,3))\n",
    "    for i in range(img.shape[0]):#here img is an array holding image paths, shaped(num_images, 1)  \n",
    "        a= load_img(img[i], target_size=(180,180))#(180,260))\n",
    "        image_array[i,:,:,:]= img_to_array(a)\n",
    "    return image_array "
   ]
  },
  {
   "cell_type": "code",
   "execution_count": null,
   "metadata": {},
   "outputs": [],
   "source": [
    "def chkname(idx):\n",
    "    print('probabilities: ', pred_array[idx], '\\n \\n max probability pos at: ', np.argmax(pred_array[idx]),\n",
    "          '\\n \\n val of probabilty: ',pred_array[idx][np.argmax(pred_array[idx])])"
   ]
  },
  {
   "cell_type": "markdown",
   "metadata": {},
   "source": [
    "* ##### Following appends incoming images into a testmix list and preprocesses it to 180x180x3 matrices"
   ]
  },
  {
   "cell_type": "code",
   "execution_count": 7,
   "metadata": {},
   "outputs": [
    {
     "name": "stdout",
     "output_type": "stream",
     "text": [
      "(4,) ['C:\\\\tt23\\\\25.jpg' 'C:\\\\tt23\\\\26.jpg' 'C:\\\\tt23\\\\27.jpg'\n",
      " 'C:\\\\tt23\\\\28.jpg']\n",
      "(4, 180, 180, 3)\n"
     ]
    }
   ],
   "source": [
    "li_testmix=[]#list of mixed images from test folder\n",
    "\n",
    "for file in os.scandir('C:\\\\tt23'):#traverses over any image thrown in this folder\n",
    "    li_testmix.append(file.path)#os.path.join(root, file))\n",
    "\n",
    "test_patharray= np.array(li_testmix)\n",
    "print(test_patharray.shape, test_patharray)\n",
    "\n",
    "test_array = process_whole(test_patharray) #array of image matrix\n",
    "print(test_array.shape)"
   ]
  },
  {
   "cell_type": "code",
   "execution_count": 10,
   "metadata": {},
   "outputs": [
    {
     "name": "stdout",
     "output_type": "stream",
     "text": [
      "exe time:  4.699268579483032\n"
     ]
    }
   ],
   "source": [
    "import time\n",
    "tick = time.time()\n",
    "pred_array = model16c.predict(test_array)####testing model predictions on test dataset\n",
    "\n",
    "print('exe time: ', time.time() -tick)"
   ]
  },
  {
   "cell_type": "code",
   "execution_count": 135,
   "metadata": {},
   "outputs": [
    {
     "name": "stdout",
     "output_type": "stream",
     "text": [
      "probabilities:  [1.9544427e-06 2.4477117e-07 1.8792628e-06 2.4906598e-07 6.8006005e-07\n",
      " 4.4285494e-07 1.9865936e-08 3.9805968e-06 1.0443083e-05 9.9992883e-01\n",
      " 5.4473645e-07 1.3718718e-05 3.5610024e-05 1.7599281e-07 1.2484621e-06\n",
      " 2.7302773e-08] \n",
      " \n",
      " max probability pos at:  9 \n",
      " \n",
      " val of probabilty:  0.99992883\n"
     ]
    }
   ],
   "source": [
    "chkname(3)"
   ]
  },
  {
   "cell_type": "markdown",
   "metadata": {},
   "source": [
    "##### Following dictionary holds class labels as keys and food names, GI index as values.\n",
    "* It serves as reference to throw a food name & GI index corresponding to a numeric class label."
   ]
  },
  {
   "cell_type": "code",
   "execution_count": 22,
   "metadata": {},
   "outputs": [],
   "source": [
    "class_gi_dict = {0:['Samosa', 'GI: 75 to 85'], 1:['Idly','GI: 60 to 80'], 2:['ice_cream', 'GI: 85 to 95' ], 3:['dosa','GI: 61 to 85'], 4:['hamburger','GI: 56 to 58'],5:['cup_cake','GI: 56 to 58'], 6:['donuts','GI: 56 to 58'],7:['Omelette','GI: 60 to 75'],8:['chicken_wings','GI: 90 to 100'],9:['french_fries','GI: 75 to 95'], 10:['dumplings','GI: 65 to 85'], 11:['hotdog','GI: 80 to 95'], 12:['fried_rice','GI: 60 to 70'], 13:['waffles','GI: 30 to 40'], 14:['pizza','GI: 85 to 98'], 15:['sandwich','GI: 30 to 40']}"
   ]
  },
  {
   "cell_type": "markdown",
   "metadata": {},
   "source": [
    "##### evaluating all food name & Indexes predicted against random number of images thrown in testmix folder"
   ]
  },
  {
   "cell_type": "code",
   "execution_count": 27,
   "metadata": {
    "scrolled": true
   },
   "outputs": [
    {
     "name": "stdout",
     "output_type": "stream",
     "text": [
      "image named: [25.jpg], \n",
      " yields prediction array: [[2.6665629e-07 8.5585384e-08 4.4159756e-07 7.3102790e-08 1.7772120e-07\n",
      " 2.4154852e-07 4.4824895e-07 6.9917383e-05 4.5211414e-07 5.0491457e-07\n",
      " 1.1032588e-06 6.8183233e-08 8.9386123e-07 2.9987922e-07 9.9992466e-01\n",
      " 3.2791124e-07]]\n",
      "\n",
      " predicted food in image: [25.jpg] is: [pizza] with the probability of: [99.99246597290039] and GI index: [GI: 85 to 98] \n",
      " \n",
      "\n",
      "image named: [26.jpg], \n",
      " yields prediction array: [[3.4190273e-06 1.0983578e-04 3.9239058e-06 9.7042680e-01 4.9790838e-06\n",
      " 6.1200103e-06 8.8558627e-05 7.7617001e-03 8.5718821e-06 1.2097621e-05\n",
      " 4.5439606e-06 2.7032856e-06 5.2052789e-04 7.6342229e-05 2.0945990e-02\n",
      " 2.3833027e-05]]\n",
      "\n",
      " predicted food in image: [26.jpg] is: [dosa] with the probability of: [97.04267978668213] and GI index: [GI: 61 to 85] \n",
      " \n",
      "\n",
      "image named: [27.jpg], \n",
      " yields prediction array: [[9.99999046e-01 1.09474296e-08 2.15736740e-09 1.08366127e-09\n",
      " 2.44970177e-08 3.35703215e-10 1.32634383e-07 2.85043939e-07\n",
      " 5.44695455e-10 5.90627824e-10 5.49424556e-07 1.08749953e-10\n",
      " 4.45021325e-10 1.03008990e-09 2.47759702e-10 1.16489110e-10]]\n",
      "\n",
      " predicted food in image: [27.jpg] is: [Samosa] with the probability of: [99.99990463256836] and GI index: [GI: 75 to 85] \n",
      " \n",
      "\n",
      "image named: [28.jpg], \n",
      " yields prediction array: [[9.4914502e-01 3.9899394e-05 4.8001846e-05 1.9166380e-04 7.2808172e-05\n",
      " 3.0801339e-06 6.6833977e-06 4.7986470e-02 1.0506727e-04 3.9142371e-05\n",
      " 2.0147903e-05 3.4253422e-05 1.7081049e-03 5.9473655e-06 5.8088446e-04\n",
      " 1.2788320e-05]]\n",
      "\n",
      " predicted food in image: [28.jpg] is: [Samosa] with the probability of: [94.91450190544128] and GI index: [GI: 75 to 85] \n",
      " \n",
      "\n"
     ]
    }
   ],
   "source": [
    "#pred_array = model16c.predict(test_array)####testing model predictions on test dataset\n",
    "\n",
    "#for file in test_iter:\n",
    "for i, file in enumerate(os.scandir('C:\\\\tt23')):\n",
    "    #print('cake is [1 0 0 0], dosa is [0 1 0 0], poori is [0 0 1 0] , dosa is [0 0 0 1]')\n",
    "    print('image named: [{a}], \\n yields prediction array: [{b}]'.format(a= file.name, b= pred_array[i]))\n",
    "    print('\\n predicted food in image: [{a}] is: [{b}] with the probability of: [{c}] and GI index: [{d}]'.format(a= file.name, b= class_gi_dict[np.argmax(pred_array[i])][0], c= np.amax(pred_array[i])*100, d= class_gi_dict[np.argmax(pred_array[i])][1]), '\\n \\n')\n"
   ]
  }
 ],
 "metadata": {
  "accelerator": "GPU",
  "colab": {
   "collapsed_sections": [],
   "default_view": {},
   "name": "food_180718.ipynb",
   "provenance": [],
   "version": "0.3.2",
   "views": {}
  },
  "kernelspec": {
   "display_name": "Python 3",
   "language": "python",
   "name": "python3"
  },
  "language_info": {
   "codemirror_mode": {
    "name": "ipython",
    "version": 3
   },
   "file_extension": ".py",
   "mimetype": "text/x-python",
   "name": "python",
   "nbconvert_exporter": "python",
   "pygments_lexer": "ipython3",
   "version": "3.6.6"
  }
 },
 "nbformat": 4,
 "nbformat_minor": 1
}
